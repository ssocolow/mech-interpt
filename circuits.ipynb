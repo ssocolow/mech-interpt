{
 "cells": [
  {
   "cell_type": "markdown",
   "id": "ef7ffd8a",
   "metadata": {},
   "source": [
    "# Transformer circuits notes\n",
    "following https://transformer-circuits.pub/2025/attribution-graphs/methods.html\n",
    "- actually doing this in liquidtext would be better, assuming formatting works."
   ]
  }
 ],
 "metadata": {
  "language_info": {
   "name": "python"
  }
 },
 "nbformat": 4,
 "nbformat_minor": 5
}
